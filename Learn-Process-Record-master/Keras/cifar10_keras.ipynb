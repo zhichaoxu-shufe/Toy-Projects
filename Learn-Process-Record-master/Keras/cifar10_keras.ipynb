{
  "nbformat": 4,
  "nbformat_minor": 0,
  "metadata": {
    "colab": {
      "name": "cifar10-keras.ipynb",
      "version": "0.3.2",
      "provenance": [],
      "collapsed_sections": []
    },
    "kernelspec": {
      "name": "python3",
      "display_name": "Python 3"
    }
  },
  "cells": [
    {
      "cell_type": "code",
      "metadata": {
        "id": "A7MtqfKvWJ4u",
        "colab_type": "code",
        "colab": {
          "base_uri": "https://localhost:8080/",
          "height": 35
        },
        "outputId": "b172b4a7-af2c-40de-cb24-bd1994c25430"
      },
      "source": [
        "import numpy as np\n",
        "import pandas as pd\n",
        "\n",
        "from keras.models import Sequential\n",
        "from keras.layers.convolutional import Conv2D\n",
        "from keras.layers.convolutional import MaxPooling2D\n",
        "from keras.layers.core import Activation\n",
        "from keras.layers import BatchNormalization\n",
        "from keras.layers.core import Dense\n",
        "from keras.layers.core import Dropout\n",
        "from keras.layers.core import Flatten\n",
        "\n",
        "from keras import backend as K\n",
        "from keras.preprocessing.image import ImageDataGenerator\n",
        "from keras.optimizers import Adam\n",
        "import matplotlib.pyplot as plt\n",
        "from sklearn.model_selection import train_test_split\n",
        "from keras.preprocessing.image import img_to_array\n",
        "from keras.utils import to_categorical\n",
        "\n",
        "from sklearn.model_selection import KFold\n",
        "from six.moves import cPickle as pickle\n",
        "from keras import regularizers\n",
        "import os\n",
        "import platform\n",
        "from subprocess import check_output\n",
        "\n",
        "import argparse\n",
        "import random\n",
        "import cv2\n"
      ],
      "execution_count": 1,
      "outputs": [
        {
          "output_type": "stream",
          "text": [
            "Using TensorFlow backend.\n"
          ],
          "name": "stderr"
        }
      ]
    },
    {
      "cell_type": "code",
      "metadata": {
        "id": "Elvi881C2bcj",
        "colab_type": "code",
        "colab": {
          "base_uri": "https://localhost:8080/",
          "height": 127
        },
        "outputId": "88abf1e7-c8f3-4095-8c71-014219649cb2"
      },
      "source": [
        "from google.colab import drive\n",
        "drive.mount('/content/gdrive')"
      ],
      "execution_count": 2,
      "outputs": [
        {
          "output_type": "stream",
          "text": [
            "Go to this URL in a browser: https://accounts.google.com/o/oauth2/auth?client_id=947318989803-6bn6qk8qdgf4n4g3pfee6491hc0brc4i.apps.googleusercontent.com&redirect_uri=urn%3Aietf%3Awg%3Aoauth%3A2.0%3Aoob&scope=email%20https%3A%2F%2Fwww.googleapis.com%2Fauth%2Fdocs.test%20https%3A%2F%2Fwww.googleapis.com%2Fauth%2Fdrive%20https%3A%2F%2Fwww.googleapis.com%2Fauth%2Fdrive.photos.readonly%20https%3A%2F%2Fwww.googleapis.com%2Fauth%2Fpeopleapi.readonly&response_type=code\n",
            "\n",
            "Enter your authorization code:\n",
            "··········\n",
            "Mounted at /content/gdrive\n"
          ],
          "name": "stdout"
        }
      ]
    },
    {
      "cell_type": "code",
      "metadata": {
        "id": "voi3EiV_5Vo7",
        "colab_type": "code",
        "colab": {
          "base_uri": "https://localhost:8080/",
          "height": 53
        },
        "outputId": "9ede5878-608e-4e7e-923b-62ab3bc7ac58"
      },
      "source": [
        "!ls '/content/gdrive/My Drive/cifar10'"
      ],
      "execution_count": 3,
      "outputs": [
        {
          "output_type": "stream",
          "text": [
            "data_batch_1  data_batch_3  data_batch_5\n",
            "data_batch_2  data_batch_4  test_batch\n"
          ],
          "name": "stdout"
        }
      ]
    },
    {
      "cell_type": "code",
      "metadata": {
        "id": "Hd8IVm4QYRsy",
        "colab_type": "code",
        "colab": {}
      },
      "source": [
        "class leNet:\n",
        "  def initialize_model(height, width, depth, classes):\n",
        "    model = Sequential()\n",
        "    input_shape = (height, width, depth)\n",
        "    # if we are using \"channel first\" than our first argument of input_shape will change to depth\n",
        "    if K.image_data_format() == \"channels first\":\n",
        "      input_shape = (depth, height, width)\n",
        "\n",
        "    model.add(Conv2D(20, (5, 5), padding='same'))\n",
        "    model.add(Activation('relu'))\n",
        "    model.add(MaxPooling2D(pool_size=(2, 2), strides=(2, 2)))\n",
        "    model.add(Dropout(0.2))\n",
        "    \n",
        "    model.add(Conv2D(50, (5, 5), padding='same'))\n",
        "    model.add(Activation('relu'))\n",
        "    model.add(MaxPooling2D(pool_size=(2, 2), strides=(2, 2)))\n",
        "    model.add(Dropout(0.5))\n",
        "    \n",
        "    model.add(Conv2D(80, (5, 5), padding='same'))\n",
        "    model.add(Activation('relu'))\n",
        "    model.add(MaxPooling2D(pool_size=(2, 2), strides=(2, 2)))\n",
        "    model.add(Dropout(0.2))\n",
        "\n",
        "    model.add(Conv2D(110, (5, 5), padding='same'))\n",
        "    model.add(Activation('relu'))\n",
        "    model.add(MaxPooling2D(pool_size = (2, 2), strides=(2, 2)))\n",
        "    model.add(Dropout(0.6))\n",
        "\n",
        "    # fully connected layer\n",
        "    model.add(Flatten())\n",
        "    model.add(Dense(1024))\n",
        "    model.add(Activation('relu'))\n",
        "    model.add(Dense(512))\n",
        "    model.add(Activation('relu'))\n",
        "    \n",
        "    \n",
        "    # adding Softmax Classifier because we want to classify 10 class\n",
        "    model.add(Dense(classes))\n",
        "    model.add(Activation('softmax'))\n",
        "    model.compile(loss = 'categorical_crossentropy', optimizer='adam', metrics = ['accuracy'])\n",
        "\n",
        "    return model"
      ],
      "execution_count": 0,
      "outputs": []
    },
    {
      "cell_type": "code",
      "metadata": {
        "id": "8DhfJvMJyBf4",
        "colab_type": "code",
        "colab": {}
      },
      "source": [
        "def load_pickle(f):\n",
        "  version = platform.python_version_tuple()\n",
        "  if version[0] == '2':\n",
        "    return pickle.load(f)\n",
        "  elif version[0] == '3':\n",
        "    return pickle.load(f, encoding='latin1')\n",
        "  raise ValueError('invalid python version: {}'.format(version))"
      ],
      "execution_count": 0,
      "outputs": []
    },
    {
      "cell_type": "code",
      "metadata": {
        "id": "x0EYL-BqyBiw",
        "colab_type": "code",
        "colab": {}
      },
      "source": [
        "def load_CIFAR_batch(filename):\n",
        "  # load single batch of cifar\n",
        "#   with open(filename, 'rb') as f:\n",
        "  file = open(filename, 'rb')\n",
        "  datadict = load_pickle(file)\n",
        "  X = datadict['data']\n",
        "  Y = datadict['labels']\n",
        "  X = X.reshape(10000, 3, 32, 32).transpose(0, 2, 3, 1).astype('float')\n",
        "  Y = np.array(Y)\n",
        "  return X, Y"
      ],
      "execution_count": 0,
      "outputs": []
    },
    {
      "cell_type": "code",
      "metadata": {
        "id": "KFG3JIJny5bo",
        "colab_type": "code",
        "colab": {}
      },
      "source": [
        "def load_CIFAR10(ROOT):\n",
        "  # load all of the cifar\n",
        "  xs = []\n",
        "  ys = []\n",
        "  for b in range(1, 6):\n",
        "    f = ROOT+'data_batch_'+str(b)\n",
        "    X, Y = load_CIFAR_batch(f)\n",
        "    xs.append(X)\n",
        "    ys.append(Y)\n",
        "  Xtr = np.concatenate(xs)\n",
        "  Ytr = np.concatenate(ys)\n",
        "  del X, Y\n",
        "  Xte, Yte = load_CIFAR_batch(ROOT+'test_batch')\n",
        "  return Xtr, Ytr, Xte, Yte"
      ],
      "execution_count": 0,
      "outputs": []
    },
    {
      "cell_type": "code",
      "metadata": {
        "id": "O3hVBtTd1xQY",
        "colab_type": "code",
        "colab": {}
      },
      "source": [
        "def get_CIFAR10_data(num_training=49000, num_validation=1000, num_test=10000):\n",
        "  # load the raw CIFAR-10 data\n",
        "  cifar10_dir = '/content/gdrive/My Drive/cifar10/'\n",
        "  \n",
        "  X_train, y_train, X_test, y_test = load_CIFAR10(cifar10_dir)\n",
        "  \n",
        "  # Subsample the data\n",
        "  mask = range(num_training, num_training + num_validation)\n",
        "  X_val = X_train[mask]\n",
        "  y_val = y_train[mask]\n",
        "  \n",
        "  mask = range(num_training)\n",
        "  X_train = X_train[mask]\n",
        "  y_train = y_train[mask]\n",
        "  \n",
        "  mask = range(num_test)\n",
        "  X_test = X_test[mask]\n",
        "  y_test = y_test[mask]\n",
        "  \n",
        "  # normalize the data: substract the mean image\n",
        "  # Z-scores\n",
        "  std = np.std(X_train,axis=(0,1,2,3))\n",
        "  std = np.std(X_val,axis=(0,1,2,3))\n",
        "  std = np.std(X_test,axis=(0,1,2,3))\n",
        "  mean_image = np.mean(X_train, axis=0)\n",
        "  X_train =(X_train - mean_image)/(std)\n",
        "  X_val = (X_val - mean_image)/std\n",
        "  X_test = (X_test - mean_image)/std\n",
        "  \n",
        "  return X_train, y_train, X_val, y_val, X_test, y_test"
      ],
      "execution_count": 0,
      "outputs": []
    },
    {
      "cell_type": "code",
      "metadata": {
        "id": "zjxoq5zRyeSG",
        "colab_type": "code",
        "colab": {
          "base_uri": "https://localhost:8080/",
          "height": 125
        },
        "outputId": "329a4b61-8bc5-4bd2-c972-507ded0cd117"
      },
      "source": [
        "# Invoke the above function to get our data.\n",
        "X_train, y_train, X_val, y_val, X_test, y_test = get_CIFAR10_data()\n",
        "print('Train data shape: ', X_train.shape)\n",
        "print('Train labels shape: ', y_train.shape)\n",
        "print('Validation data shape: ', X_val.shape)\n",
        "print('Validation labels shape: ', y_val.shape)\n",
        "print('Test data shape: ', X_test.shape)\n",
        "print('Test labels shape: ', y_test.shape)\n",
        "y=y_train\n",
        "y_train = to_categorical(y_train, num_classes=10)\n",
        "y_test = to_categorical( y_test, num_classes=10)\n",
        "y_val = to_categorical( y_val, num_classes=10)"
      ],
      "execution_count": 17,
      "outputs": [
        {
          "output_type": "stream",
          "text": [
            "Train data shape:  (49000, 32, 32, 3)\n",
            "Train labels shape:  (49000,)\n",
            "Validation data shape:  (1000, 32, 32, 3)\n",
            "Validation labels shape:  (1000,)\n",
            "Test data shape:  (10000, 32, 32, 3)\n",
            "Test labels shape:  (10000,)\n"
          ],
          "name": "stdout"
        }
      ]
    },
    {
      "cell_type": "code",
      "metadata": {
        "id": "IXRar-DYyBl4",
        "colab_type": "code",
        "colab": {}
      },
      "source": [
        "EPOCHS = 5\n",
        "INIT_LR = 1e-3\n",
        "BS = 32\n",
        "\n",
        "# data augmentation\n",
        "datagen = ImageDataGenerator(\n",
        "    rotation_range = 15,\n",
        "    width_shift_range=0.1,\n",
        "    height_shift_range=0.1,\n",
        "    horizontal_flip=True,\n",
        ")\n",
        "datagen.fit(X_train)\n",
        "\n",
        "# model\n",
        "model = leNet.initialize_model(width=32, height=32, depth=3, classes=10)\n",
        "opt = Adam(lr=INIT_LR, decay=INIT_LR/EPOCHS)\n",
        "\n",
        "# compile the model\n",
        "model.compile(loss = 'categorical_crossentropy',\n",
        "             optimizer=Adam(lr=0.0001, decay = 1e-6),\n",
        "             metrics = ['accuracy'])"
      ],
      "execution_count": 0,
      "outputs": []
    },
    {
      "cell_type": "code",
      "metadata": {
        "id": "SypNSwP84d0d",
        "colab_type": "code",
        "colab": {
          "base_uri": "https://localhost:8080/",
          "height": 415
        },
        "outputId": "b7916531-fd44-4b9d-d611-0da3312c9cb2"
      },
      "source": [
        "history = model.fit(X_train,\n",
        "                    y_train,\n",
        "                   batch_size=128,\n",
        "                   epochs=10,\n",
        "                    validation_data = (X_val, y_val)\n",
        "                   )"
      ],
      "execution_count": 22,
      "outputs": [
        {
          "output_type": "stream",
          "text": [
            "Train on 49000 samples, validate on 1000 samples\n",
            "Epoch 1/10\n",
            "49000/49000 [==============================] - 260s 5ms/step - loss: 1.2046 - acc: 0.5651 - val_loss: 1.1247 - val_acc: 0.5910\n",
            "Epoch 2/10\n",
            "49000/49000 [==============================] - 261s 5ms/step - loss: 1.1774 - acc: 0.5741 - val_loss: 1.0895 - val_acc: 0.6050\n",
            "Epoch 3/10\n",
            "49000/49000 [==============================] - 260s 5ms/step - loss: 1.1537 - acc: 0.5846 - val_loss: 1.0909 - val_acc: 0.6150\n",
            "Epoch 4/10\n",
            "49000/49000 [==============================] - 260s 5ms/step - loss: 1.1353 - acc: 0.5916 - val_loss: 1.0625 - val_acc: 0.6180\n",
            "Epoch 5/10\n",
            "49000/49000 [==============================] - 261s 5ms/step - loss: 1.1143 - acc: 0.6020 - val_loss: 1.0257 - val_acc: 0.6410\n",
            "Epoch 6/10\n",
            "49000/49000 [==============================] - 260s 5ms/step - loss: 1.0956 - acc: 0.6045 - val_loss: 1.0197 - val_acc: 0.6410\n",
            "Epoch 7/10\n",
            "49000/49000 [==============================] - 260s 5ms/step - loss: 1.0723 - acc: 0.6140 - val_loss: 0.9886 - val_acc: 0.6380\n",
            "Epoch 8/10\n",
            "49000/49000 [==============================] - 260s 5ms/step - loss: 1.0621 - acc: 0.6171 - val_loss: 0.9452 - val_acc: 0.6660\n",
            "Epoch 9/10\n",
            "49000/49000 [==============================] - 259s 5ms/step - loss: 1.0386 - acc: 0.6279 - val_loss: 0.9604 - val_acc: 0.6500\n",
            "Epoch 10/10\n",
            "49000/49000 [==============================] - 259s 5ms/step - loss: 1.0277 - acc: 0.6300 - val_loss: 0.9461 - val_acc: 0.6670\n"
          ],
          "name": "stdout"
        }
      ]
    },
    {
      "cell_type": "code",
      "metadata": {
        "id": "j3d2-Lwj4hrU",
        "colab_type": "code",
        "colab": {
          "base_uri": "https://localhost:8080/",
          "height": 71
        },
        "outputId": "25977510-84b7-49f5-8879-82215afa57dc"
      },
      "source": [
        "scores = model.evaluate(X_test, y_test)\n",
        "\n",
        "print('Loss: %.3f' % scores[0])\n",
        "print('Accuracy: %.3f' % scores[1])"
      ],
      "execution_count": 23,
      "outputs": [
        {
          "output_type": "stream",
          "text": [
            "10000/10000 [==============================] - 21s 2ms/step\n",
            "Loss: 0.950\n",
            "Accuracy: 0.663\n"
          ],
          "name": "stdout"
        }
      ]
    },
    {
      "cell_type": "code",
      "metadata": {
        "id": "VYfP9BnNns-V",
        "colab_type": "code",
        "colab": {}
      },
      "source": [
        ""
      ],
      "execution_count": 0,
      "outputs": []
    },
    {
      "cell_type": "code",
      "metadata": {
        "id": "4BjYNmkqdZPw",
        "colab_type": "code",
        "colab": {
          "base_uri": "https://localhost:8080/",
          "height": 591
        },
        "outputId": "f2a75a09-4e17-4909-be74-eb3297c09148"
      },
      "source": [
        "print(history.history.keys())\n",
        "\n",
        "# summarize history for accuracy\n",
        "plt.plot(history.history['acc'])\n",
        "plt.plot(history.history['val_acc'])\n",
        "plt.title('model accuracy')\n",
        "plt.ylabel('accuracy')\n",
        "plt.xlabel('epoch')\n",
        "plt.legend(['train', 'test'], loc='upper left')\n",
        "plt.show()\n",
        "\n",
        "# summarize history for loss\n",
        "plt.plot(history.history['loss'])\n",
        "plt.plot(history.history['val_loss'])\n",
        "plt.title('model loss')\n",
        "plt.ylabel('loss')\n",
        "plt.xlabel('epoch')\n",
        "plt.legend(['train', 'test'], loc='upper left')\n",
        "plt.show()\n"
      ],
      "execution_count": 24,
      "outputs": [
        {
          "output_type": "stream",
          "text": [
            "dict_keys(['val_loss', 'val_acc', 'loss', 'acc'])\n"
          ],
          "name": "stdout"
        },
        {
          "output_type": "display_data",
          "data": {
            "image/png": "[encoded data removed]",
            "text/plain": [
              "<Figure size 432x288 with 1 Axes>"
            ]
          },
          "metadata": {
            "tags": []
          }
        },
        {
          "output_type": "display_data",
          "data": {
            "image/png": "[encoded data removed]",
            "text/plain": [
              "<Figure size 432x288 with 1 Axes>"
            ]
          },
          "metadata": {
            "tags": []
          }
        }
      ]
    },
    {
      "cell_type": "code",
      "metadata": {
        "id": "fdjMmBAbgHEL",
        "colab_type": "code",
        "colab": {}
      },
      "source": [
        "model.summary()"
      ],
      "execution_count": 0,
      "outputs": []
    },
    {
      "cell_type": "code",
      "metadata": {
        "id": "DNiqQv-KgLI6",
        "colab_type": "code",
        "colab": {}
      },
      "source": [
        "def predict_label(a):\n",
        "  # a is the number of index for which model predict the max value\n",
        "  if a == 0:\n",
        "    p = 'Aeroplane'\n",
        "  if a == 1:\n",
        "    p = 'automobile'\n",
        "  if a == 2:\n",
        "    p = 'bird'\n",
        "  if a == 3:\n",
        "    p = 'cat'\n",
        "  if a == 4:\n",
        "    p == 'deer'\n",
        "  if a == 5:\n",
        "    p == 'dog'\n",
        "  if a == 6:\n",
        "    p == 'frog'\n",
        "  if a == 7:\n",
        "    p == 'hourse'\n",
        "  if a == 8:\n",
        "    p = 'Ship'\n",
        "  if a == 9:\n",
        "    p = 'truck'\n",
        "  \n",
        "  return p"
      ],
      "execution_count": 0,
      "outputs": []
    },
    {
      "cell_type": "code",
      "metadata": {
        "id": "3N18wWeugz8o",
        "colab_type": "code",
        "colab": {
          "base_uri": "https://localhost:8080/",
          "height": 317
        },
        "outputId": "318f1986-8e38-410b-865e-c79851a5470b"
      },
      "source": [
        "x = np.expand_dims(X_test[45], axis=0)\n",
        "a = model.predict(x)\n",
        "maxindex = a.argmax()\n",
        "p = predict_label(maxindex)\n",
        "\n",
        "plt.title('Model Prediction = '+p)\n",
        "plt.imshow(X_test[45])"
      ],
      "execution_count": 26,
      "outputs": [
        {
          "output_type": "stream",
          "text": [
            "Clipping input data to the valid range for imshow with RGB data ([0..1] for floats or [0..255] for integers).\n"
          ],
          "name": "stderr"
        },
        {
          "output_type": "execute_result",
          "data": {
            "text/plain": [
              "<matplotlib.image.AxesImage at 0x7f743f44ad30>"
            ]
          },
          "metadata": {
            "tags": []
          },
          "execution_count": 26
        },
        {
          "output_type": "display_data",
          "data": {
            "image/png": "[encoded data removed]",
            "text/plain": [
              "<Figure size 432x288 with 1 Axes>"
            ]
          },
          "metadata": {
            "tags": []
          }
        }
      ]
    }
  ]
}