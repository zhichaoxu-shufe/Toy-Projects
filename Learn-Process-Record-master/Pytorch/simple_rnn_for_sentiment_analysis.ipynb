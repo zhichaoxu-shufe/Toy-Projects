{
  "nbformat": 4,
  "nbformat_minor": 0,
  "metadata": {
    "colab": {
      "name": "simple rnn for sentiment analysis.ipynb",
      "version": "0.3.2",
      "provenance": []
    },
    "kernelspec": {
      "name": "python3",
      "display_name": "Python 3"
    },
    "accelerator": "TPU"
  },
  "cells": [
    {
      "cell_type": "markdown",
      "metadata": {
        "id": "ZjFVDQsDW0Az",
        "colab_type": "text"
      },
      "source": [
        "Model Zoo -- Simple RNN for\n",
        "Sentiment Classification<br>\n",
        "a binary classification problem with two labels, positive and negative"
      ]
    },
    {
      "cell_type": "code",
      "metadata": {
        "id": "9Y6UudG0W4Oh",
        "colab_type": "code",
        "colab": {}
      },
      "source": [
        "import torch\n",
        "import torch.nn.functional as F\n",
        "from torchtext import data\n",
        "from torchtext import datasets\n",
        "import time\n",
        "import random\n",
        "\n",
        "torch.backends.cudnn.deterministic=True"
      ],
      "execution_count": 0,
      "outputs": []
    },
    {
      "cell_type": "code",
      "metadata": {
        "id": "CacQN0a1XkLs",
        "colab_type": "code",
        "colab": {}
      },
      "source": [
        "RANDOM_SEED = 123\n",
        "torch.manual_seed(RANDOM_SEED)\n",
        "\n",
        "vocabulary_size = 20000\n",
        "learning_rate = 1e-4\n",
        "batch_size = 128\n",
        "num_epochs = 15\n",
        "device = torch.device('cuda' if torch.cuda.is_available() else 'cpu')\n",
        "\n",
        "embedding_dim = 128\n",
        "hidden_dim = 256\n",
        "output_dim = 1"
      ],
      "execution_count": 0,
      "outputs": []
    },
    {
      "cell_type": "code",
      "metadata": {
        "id": "__ziviWfYASM",
        "colab_type": "code",
        "colab": {
          "base_uri": "https://localhost:8080/",
          "height": 107
        },
        "outputId": "fc26b933-4963-4f7d-c120-1294a9489a1c"
      },
      "source": [
        "TEXT = data.Field(tokenize = 'spacy')\n",
        "LABEL = data.LabelField(dtype = torch.float)\n",
        "train_data, test_data = datasets.IMDB.splits(TEXT, LABEL)\n",
        "train_data, valid_data = train_data.split(random_state = random.seed(RANDOM_SEED), split_ratio=0.8)\n",
        "\n",
        "print(f'Num Train: {len(train_data)}')\n",
        "print(f'Num Valid: {len(valid_data)}')\n",
        "print(f'Num Test: {len(test_data)}')"
      ],
      "execution_count": 3,
      "outputs": [
        {
          "output_type": "stream",
          "text": [
            "\raclImdb_v1.tar.gz:   0%|          | 0.00/84.1M [00:00<?, ?B/s]"
          ],
          "name": "stderr"
        },
        {
          "output_type": "stream",
          "text": [
            "downloading aclImdb_v1.tar.gz\n"
          ],
          "name": "stdout"
        },
        {
          "output_type": "stream",
          "text": [
            "aclImdb_v1.tar.gz: 100%|██████████| 84.1M/84.1M [00:02<00:00, 29.5MB/s]\n"
          ],
          "name": "stderr"
        },
        {
          "output_type": "stream",
          "text": [
            "Num Train: 20000\n",
            "Num Valid: 5000\n",
            "Num Test: 25000\n"
          ],
          "name": "stdout"
        }
      ]
    },
    {
      "cell_type": "code",
      "metadata": {
        "id": "tEZyHTBjYAV6",
        "colab_type": "code",
        "colab": {
          "base_uri": "https://localhost:8080/",
          "height": 53
        },
        "outputId": "89538195-9053-4550-b950-c19edfdb8e7e"
      },
      "source": [
        "TEXT.build_vocab(train_data, max_size = vocabulary_size)\n",
        "LABEL.build_vocab(train_data)\n",
        "\n",
        "print(f'Vocabulary size: {len(TEXT.vocab)}')\n",
        "print(f'Number of classes: {len(LABEL.vocab)}')"
      ],
      "execution_count": 5,
      "outputs": [
        {
          "output_type": "stream",
          "text": [
            "Vocabulary size: 20002\n",
            "Number of classes: 2\n"
          ],
          "name": "stdout"
        }
      ]
    },
    {
      "cell_type": "markdown",
      "metadata": {
        "id": "SHWG2x_dZ43i",
        "colab_type": "text"
      },
      "source": [
        "the TEXT.vocab dictionary will contain the word counts and indices. The reason why the number of words is vocabulary_size + 2 is that it contains two special tokens for padding and unknown words: $<unk>$ and $<pad>$"
      ]
    },
    {
      "cell_type": "code",
      "metadata": {
        "id": "C1n1q9JDajZS",
        "colab_type": "code",
        "colab": {}
      },
      "source": [
        "# create dataset iterators\n",
        "train_loader, valid_loader, test_loader = data.BucketIterator.splits(\n",
        "    (train_data, valid_data, test_data),\n",
        "    batch_size = batch_size,\n",
        "    device = device)"
      ],
      "execution_count": 0,
      "outputs": []
    },
    {
      "cell_type": "code",
      "metadata": {
        "id": "S4DKSDZxa-JV",
        "colab_type": "code",
        "colab": {
          "base_uri": "https://localhost:8080/",
          "height": 215
        },
        "outputId": "0aa6b6f2-a573-4a7b-e015-ce1eeb2836dd"
      },
      "source": [
        "# testing the iterators (note that the number of rows depends on the longest document in the respective batch)\n",
        "print('Train')\n",
        "for batch in train_loader:\n",
        "    print(f'Text matrix size: {batch.text.size()}')\n",
        "    print(f'Target vector size: {batch.label.size()}')\n",
        "    break\n",
        "\n",
        "print('\\nValid:')\n",
        "for batch in valid_loader:\n",
        "    print(f'Text matrix size: {batch.text.size()}')\n",
        "    print(f'Target vector size: {batch.label.size()}')\n",
        "    break\n",
        "\n",
        "print('\\nTest:')\n",
        "for batch in test_loader:\n",
        "    print(f'Text matrix size: {batch.text.size()}')\n",
        "    print(f'Target vector size: {batch.label.size()}')\n",
        "    break"
      ],
      "execution_count": 10,
      "outputs": [
        {
          "output_type": "stream",
          "text": [
            "Train\n",
            "Text matrix size: torch.Size([1196, 128])\n",
            "Target vector size: torch.Size([128])\n",
            "\n",
            "Valid:\n",
            "Text matrix size: torch.Size([60, 128])\n",
            "Target vector size: torch.Size([128])\n",
            "\n",
            "Test:\n",
            "Text matrix size: torch.Size([42, 128])\n",
            "Target vector size: torch.Size([128])\n"
          ],
          "name": "stdout"
        }
      ]
    },
    {
      "cell_type": "code",
      "metadata": {
        "id": "0PfMhWipci7N",
        "colab_type": "code",
        "colab": {}
      },
      "source": [
        "# the model part\n",
        "import torch.nn as nn\n",
        "\n",
        "class RNN(nn.Module):\n",
        "    def __init__(self, input_dim, embedding_dim, hidden_dim, output_dim):\n",
        "        super().__init__()\n",
        "        \n",
        "        self.embedding = nn.Embedding(input_dim, embedding_dim)\n",
        "        self.rnn = nn.RNN(embedding_dim, hidden_dim)\n",
        "        self.fc = nn.Linear(hidden_dim, output_dim)\n",
        "    \n",
        "    def forward(self, text):\n",
        "        # [sentence len, batch size] => [sentence len, batch size, embedding size]\n",
        "        embedded = self.embedding(text)\n",
        "        \n",
        "        # [sentence len, batch size, embedding size] =>\n",
        "        # output: [sentence len, batch size, hidden size]\n",
        "        # hidden: [1, batch size, hidden size]\n",
        "        output, hidden = self.rnn(embedded)\n",
        "        return self.fc(hidden.squeeze(0)).view(-1)"
      ],
      "execution_count": 0,
      "outputs": []
    },
    {
      "cell_type": "code",
      "metadata": {
        "id": "G7kH6ZpYdnax",
        "colab_type": "code",
        "colab": {}
      },
      "source": [
        "input_dim = len(TEXT.vocab)\n",
        "embedding_dim = 64\n",
        "hidden_dim = 128\n",
        "output_dim = 1\n",
        "\n",
        "torch.manual_seed(RANDOM_SEED)\n",
        "model = RNN(input_dim, embedding_dim, hidden_dim, output_dim)\n",
        "model = model.to(device)\n",
        "optimizer = torch.optim.Adam(model.parameters(), lr = learning_rate)\n"
      ],
      "execution_count": 0,
      "outputs": []
    },
    {
      "cell_type": "code",
      "metadata": {
        "id": "yjf0epmEeYfq",
        "colab_type": "code",
        "colab": {}
      },
      "source": [
        "# training"
      ],
      "execution_count": 0,
      "outputs": []
    },
    {
      "cell_type": "code",
      "metadata": {
        "id": "46KrTvn_ea2z",
        "colab_type": "code",
        "colab": {}
      },
      "source": [
        "def compute_binary_accuracy(model, data_loader, device):\n",
        "    model.eval()\n",
        "    correct_pred, num_examples = 0, 0\n",
        "    with torch.no_grad():\n",
        "        for batch_idx, batch_data in enumerate(data_loader):\n",
        "            logits = model(batch_data.text)\n",
        "            predicted_labels = (torch.sigmoid(logits) > 0.5).long()\n",
        "            num_examples += batch_data.label.size(0)\n",
        "            correct_pred += (predicted_labels == batch_data.label.long()).sum()\n",
        "        return correct_pred.float() / num_examples * 100"
      ],
      "execution_count": 0,
      "outputs": []
    },
    {
      "cell_type": "code",
      "metadata": {
        "id": "fbmUNObzfGZK",
        "colab_type": "code",
        "colab": {
          "base_uri": "https://localhost:8080/",
          "height": 1000
        },
        "outputId": "f671bb5d-828d-4745-9982-fac5e4c1dc7e"
      },
      "source": [
        "start_time = time.time()\n",
        "\n",
        "for epoch in range(num_epochs):\n",
        "    model.train()\n",
        "    for batch_idx, batch_data in enumerate(train_loader):\n",
        "        \n",
        "        ### FORWARD AND BACK PROP\n",
        "        logits = model(batch_data.text)\n",
        "        cost = F.binary_cross_entropy_with_logits(logits, batch_data.label)\n",
        "        optimizer.zero_grad()\n",
        "        \n",
        "        cost.backward()\n",
        "        \n",
        "        ### UPDATE MODEL PARAMETERS\n",
        "        optimizer.step()\n",
        "        \n",
        "        ### LOGGING\n",
        "        if not batch_idx % 50:\n",
        "            print (f'Epoch: {epoch+1:03d}/{num_epochs:03d} | '\n",
        "                   f'Batch {batch_idx:03d}/{len(train_loader):03d} | '\n",
        "                   f'Cost: {cost:.4f}')\n",
        "\n",
        "    with torch.set_grad_enabled(False):\n",
        "        print(f'training accuracy: '\n",
        "              f'{compute_binary_accuracy(model, train_loader, device):.2f}%'\n",
        "              f'\\nvalid accuracy: '\n",
        "              f'{compute_binary_accuracy(model, valid_loader, device):.2f}%')\n",
        "        \n",
        "    print(f'Time elapsed: {(time.time() - start_time)/60:.2f} min')\n",
        "    \n",
        "print(f'Total Training Time: {(time.time() - start_time)/60:.2f} min')\n",
        "print(f'Test accuracy: {compute_binary_accuracy(model, test_loader, device):.2f}%')"
      ],
      "execution_count": 15,
      "outputs": [
        {
          "output_type": "stream",
          "text": [
            "Epoch: 001/015 | Batch 000/157 | Cost: 0.7097\n",
            "Epoch: 001/015 | Batch 050/157 | Cost: 0.6934\n",
            "Epoch: 001/015 | Batch 100/157 | Cost: 0.7013\n",
            "Epoch: 001/015 | Batch 150/157 | Cost: 0.6949\n",
            "training accuracy: 49.96%\n",
            "valid accuracy: 49.82%\n",
            "Time elapsed: 7.25 min\n",
            "Epoch: 002/015 | Batch 000/157 | Cost: 0.6912\n",
            "Epoch: 002/015 | Batch 050/157 | Cost: 0.6967\n",
            "Epoch: 002/015 | Batch 100/157 | Cost: 0.6917\n",
            "Epoch: 002/015 | Batch 150/157 | Cost: 0.6928\n",
            "training accuracy: 50.02%\n",
            "valid accuracy: 49.22%\n",
            "Time elapsed: 14.64 min\n",
            "Epoch: 003/015 | Batch 000/157 | Cost: 0.6925\n",
            "Epoch: 003/015 | Batch 050/157 | Cost: 0.6927\n",
            "Epoch: 003/015 | Batch 100/157 | Cost: 0.7023\n",
            "Epoch: 003/015 | Batch 150/157 | Cost: 0.6938\n",
            "training accuracy: 50.01%\n",
            "valid accuracy: 50.46%\n",
            "Time elapsed: 22.03 min\n",
            "Epoch: 004/015 | Batch 000/157 | Cost: 0.6931\n",
            "Epoch: 004/015 | Batch 050/157 | Cost: 0.6928\n",
            "Epoch: 004/015 | Batch 100/157 | Cost: 0.6912\n",
            "Epoch: 004/015 | Batch 150/157 | Cost: 0.6954\n",
            "training accuracy: 50.10%\n",
            "valid accuracy: 49.82%\n",
            "Time elapsed: 29.49 min\n",
            "Epoch: 005/015 | Batch 000/157 | Cost: 0.6870\n",
            "Epoch: 005/015 | Batch 050/157 | Cost: 0.6894\n",
            "Epoch: 005/015 | Batch 100/157 | Cost: 0.6944\n",
            "Epoch: 005/015 | Batch 150/157 | Cost: 0.6877\n",
            "training accuracy: 50.12%\n",
            "valid accuracy: 49.84%\n",
            "Time elapsed: 37.01 min\n",
            "Epoch: 006/015 | Batch 000/157 | Cost: 0.6935\n",
            "Epoch: 006/015 | Batch 050/157 | Cost: 0.6921\n",
            "Epoch: 006/015 | Batch 100/157 | Cost: 0.6920\n",
            "Epoch: 006/015 | Batch 150/157 | Cost: 0.6916\n",
            "training accuracy: 50.15%\n",
            "valid accuracy: 50.62%\n",
            "Time elapsed: 44.55 min\n",
            "Epoch: 007/015 | Batch 000/157 | Cost: 0.6932\n",
            "Epoch: 007/015 | Batch 050/157 | Cost: 0.6929\n",
            "Epoch: 007/015 | Batch 100/157 | Cost: 0.6926\n",
            "Epoch: 007/015 | Batch 150/157 | Cost: 0.6928\n",
            "training accuracy: 50.22%\n",
            "valid accuracy: 49.34%\n",
            "Time elapsed: 52.13 min\n",
            "Epoch: 008/015 | Batch 000/157 | Cost: 0.6930\n",
            "Epoch: 008/015 | Batch 050/157 | Cost: 0.6926\n",
            "Epoch: 008/015 | Batch 100/157 | Cost: 0.6940\n",
            "Epoch: 008/015 | Batch 150/157 | Cost: 0.6862\n",
            "training accuracy: 50.09%\n",
            "valid accuracy: 49.68%\n",
            "Time elapsed: 59.75 min\n",
            "Epoch: 009/015 | Batch 000/157 | Cost: 0.6913\n",
            "Epoch: 009/015 | Batch 050/157 | Cost: 0.6990\n",
            "Epoch: 009/015 | Batch 100/157 | Cost: 0.6975\n",
            "Epoch: 009/015 | Batch 150/157 | Cost: 0.6896\n",
            "training accuracy: 50.23%\n",
            "valid accuracy: 49.80%\n",
            "Time elapsed: 67.36 min\n",
            "Epoch: 010/015 | Batch 000/157 | Cost: 0.6948\n",
            "Epoch: 010/015 | Batch 050/157 | Cost: 0.6905\n",
            "Epoch: 010/015 | Batch 100/157 | Cost: 0.6929\n",
            "Epoch: 010/015 | Batch 150/157 | Cost: 0.6918\n",
            "training accuracy: 50.13%\n",
            "valid accuracy: 49.84%\n",
            "Time elapsed: 75.05 min\n",
            "Epoch: 011/015 | Batch 000/157 | Cost: 0.6930\n",
            "Epoch: 011/015 | Batch 050/157 | Cost: 0.6931\n",
            "Epoch: 011/015 | Batch 100/157 | Cost: 0.6972\n",
            "Epoch: 011/015 | Batch 150/157 | Cost: 0.6905\n",
            "training accuracy: 50.16%\n",
            "valid accuracy: 49.80%\n",
            "Time elapsed: 82.76 min\n",
            "Epoch: 012/015 | Batch 000/157 | Cost: 0.6922\n",
            "Epoch: 012/015 | Batch 050/157 | Cost: 0.6952\n",
            "Epoch: 012/015 | Batch 100/157 | Cost: 0.6951\n",
            "Epoch: 012/015 | Batch 150/157 | Cost: 0.6930\n",
            "training accuracy: 50.16%\n",
            "valid accuracy: 49.40%\n",
            "Time elapsed: 90.59 min\n",
            "Epoch: 013/015 | Batch 000/157 | Cost: 0.6937\n",
            "Epoch: 013/015 | Batch 050/157 | Cost: 0.6929\n",
            "Epoch: 013/015 | Batch 100/157 | Cost: 0.6955\n",
            "Epoch: 013/015 | Batch 150/157 | Cost: 0.6924\n",
            "training accuracy: 50.12%\n",
            "valid accuracy: 49.96%\n",
            "Time elapsed: 98.62 min\n",
            "Epoch: 014/015 | Batch 000/157 | Cost: 0.6915\n",
            "Epoch: 014/015 | Batch 050/157 | Cost: 0.6923\n",
            "Epoch: 014/015 | Batch 100/157 | Cost: 0.6888\n",
            "Epoch: 014/015 | Batch 150/157 | Cost: 0.6957\n",
            "training accuracy: 50.13%\n",
            "valid accuracy: 50.04%\n",
            "Time elapsed: 106.79 min\n",
            "Epoch: 015/015 | Batch 000/157 | Cost: 0.6990\n",
            "Epoch: 015/015 | Batch 050/157 | Cost: 0.6907\n",
            "Epoch: 015/015 | Batch 100/157 | Cost: 0.6866\n",
            "Epoch: 015/015 | Batch 150/157 | Cost: 0.6924\n",
            "training accuracy: 50.24%\n",
            "valid accuracy: 51.22%\n",
            "Time elapsed: 115.28 min\n",
            "Total Training Time: 115.28 min\n",
            "Test accuracy: 46.43%\n"
          ],
          "name": "stdout"
        }
      ]
    },
    {
      "cell_type": "code",
      "metadata": {
        "id": "3HBFsUuNrZWF",
        "colab_type": "code",
        "colab": {}
      },
      "source": [
        "# save the model we trained\n",
        "torch.save(model, 'model.pkl')"
      ],
      "execution_count": 0,
      "outputs": []
    },
    {
      "cell_type": "code",
      "metadata": {
        "id": "nS3jesEXqcjs",
        "colab_type": "code",
        "colab": {}
      },
      "source": [
        "import spacy\n",
        "nlp = spacy.load('en')\n",
        "\n",
        "def predict_sentiment(model, sentence):\n",
        "    model.eval()\n",
        "    tokenized = [tok.text for tok in nlp.tokenizer(sentence)]\n",
        "    indexed = [TEXT.vocab.stoi[t] for t in tokenized]\n",
        "    tensor = torch.LongTensor(indexed).to(DEVICE)\n",
        "    tensor = tensor.unsqueeze(1)\n",
        "    prediction = torch.sigmoid(model(tensor))\n",
        "    return prediction.item()"
      ],
      "execution_count": 0,
      "outputs": []
    },
    {
      "cell_type": "code",
      "metadata": {
        "id": "ZYKTZsafrD3s",
        "colab_type": "code",
        "colab": {}
      },
      "source": [
        "print('probability positive:')\n",
        "predict_sentiment(model, \"I really love this movie, this movie is so great!\")"
      ],
      "execution_count": 0,
      "outputs": []
    }
  ]
}