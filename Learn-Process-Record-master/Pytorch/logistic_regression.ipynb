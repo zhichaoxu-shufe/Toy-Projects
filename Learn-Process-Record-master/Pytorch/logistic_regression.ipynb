{
  "nbformat": 4,
  "nbformat_minor": 0,
  "metadata": {
    "colab": {
      "name": "logistic_regression.ipynb",
      "version": "0.3.2",
      "provenance": [],
      "collapsed_sections": []
    },
    "kernelspec": {
      "name": "python3",
      "display_name": "Python 3"
    }
  },
  "cells": [
    {
      "cell_type": "code",
      "metadata": {
        "id": "Z-9qEcxpJudn",
        "colab_type": "code",
        "colab": {}
      },
      "source": [
        "import torch\n",
        "import torch.nn as nn\n",
        "import torchvision\n",
        "import torchvision.transforms as transforms"
      ],
      "execution_count": 0,
      "outputs": []
    },
    {
      "cell_type": "code",
      "metadata": {
        "id": "3tSMg4EWKBLk",
        "colab_type": "code",
        "colab": {}
      },
      "source": [
        "# Hyper-parameters\n",
        "input_size = 784\n",
        "num_classes = 10\n",
        "num_epochs = 5\n",
        "batch_size = 100\n",
        "learning_rate = 0.001"
      ],
      "execution_count": 0,
      "outputs": []
    },
    {
      "cell_type": "code",
      "metadata": {
        "id": "DGtc7mnbKLr1",
        "colab_type": "code",
        "colab": {
          "base_uri": "https://localhost:8080/",
          "height": 289
        },
        "outputId": "fc3ee5cd-e135-4d37-cf41-1abb266b7bf4"
      },
      "source": [
        "# MNIST data\n",
        "train_dataset = torchvision.datasets.MNIST(root = '../../data',\n",
        "                                          train=True,\n",
        "                                          transform = transforms.ToTensor(),\n",
        "                                          download=True)\n",
        "\n",
        "test_dataset = torchvision.datasets.MNIST(root = '../../data',\n",
        "                                         train=False,\n",
        "                                         transform = transforms.ToTensor(),\n",
        "                                         )"
      ],
      "execution_count": 3,
      "outputs": [
        {
          "output_type": "stream",
          "text": [
            "\r0it [00:00, ?it/s]"
          ],
          "name": "stderr"
        },
        {
          "output_type": "stream",
          "text": [
            "Downloading http://yann.lecun.com/exdb/mnist/train-images-idx3-ubyte.gz to ../../data/MNIST/raw/train-images-idx3-ubyte.gz\n"
          ],
          "name": "stdout"
        },
        {
          "output_type": "stream",
          "text": [
            "9920512it [00:01, 9166930.82it/s]                            \n"
          ],
          "name": "stderr"
        },
        {
          "output_type": "stream",
          "text": [
            "Extracting ../../data/MNIST/raw/train-images-idx3-ubyte.gz\n"
          ],
          "name": "stdout"
        },
        {
          "output_type": "stream",
          "text": [
            "  0%|          | 0/28881 [00:00<?, ?it/s]"
          ],
          "name": "stderr"
        },
        {
          "output_type": "stream",
          "text": [
            "Downloading http://yann.lecun.com/exdb/mnist/train-labels-idx1-ubyte.gz to ../../data/MNIST/raw/train-labels-idx1-ubyte.gz\n"
          ],
          "name": "stdout"
        },
        {
          "output_type": "stream",
          "text": [
            "32768it [00:00, 142809.15it/s]           \n",
            "  0%|          | 0/1648877 [00:00<?, ?it/s]"
          ],
          "name": "stderr"
        },
        {
          "output_type": "stream",
          "text": [
            "Extracting ../../data/MNIST/raw/train-labels-idx1-ubyte.gz\n",
            "Downloading http://yann.lecun.com/exdb/mnist/t10k-images-idx3-ubyte.gz to ../../data/MNIST/raw/t10k-images-idx3-ubyte.gz\n"
          ],
          "name": "stdout"
        },
        {
          "output_type": "stream",
          "text": [
            "1654784it [00:00, 2332753.50it/s]                            \n",
            "0it [00:00, ?it/s]"
          ],
          "name": "stderr"
        },
        {
          "output_type": "stream",
          "text": [
            "Extracting ../../data/MNIST/raw/t10k-images-idx3-ubyte.gz\n",
            "Downloading http://yann.lecun.com/exdb/mnist/t10k-labels-idx1-ubyte.gz to ../../data/MNIST/raw/t10k-labels-idx1-ubyte.gz\n"
          ],
          "name": "stdout"
        },
        {
          "output_type": "stream",
          "text": [
            "8192it [00:00, 54269.30it/s]            \n"
          ],
          "name": "stderr"
        },
        {
          "output_type": "stream",
          "text": [
            "Extracting ../../data/MNIST/raw/t10k-labels-idx1-ubyte.gz\n",
            "Processing...\n",
            "Done!\n"
          ],
          "name": "stdout"
        }
      ]
    },
    {
      "cell_type": "code",
      "metadata": {
        "id": "nTDeFkqKKqoD",
        "colab_type": "code",
        "colab": {}
      },
      "source": [
        "# Data Loader (input pipeline)\n",
        "train_loader = torch.utils.data.DataLoader(dataset = train_dataset,\n",
        "                                          batch_size = batch_size,\n",
        "                                          shuffle = True)\n",
        "\n",
        "test_loader = torch.utils.data.DataLoader(dataset = test_dataset,\n",
        "                                         batch_size = batch_size,\n",
        "                                         shuffle=False)"
      ],
      "execution_count": 0,
      "outputs": []
    },
    {
      "cell_type": "code",
      "metadata": {
        "id": "I2xH7_2SK_sM",
        "colab_type": "code",
        "colab": {}
      },
      "source": [
        "# Logistic regression model\n",
        "model = nn.Linear(input_size, num_classes)"
      ],
      "execution_count": 0,
      "outputs": []
    },
    {
      "cell_type": "code",
      "metadata": {
        "id": "gUcIAk7-LJmK",
        "colab_type": "code",
        "colab": {}
      },
      "source": [
        "# Loss and optimizer\n",
        "# nn.CrossEntropyLoss() computes softmax internally\n",
        "criterion = nn.CrossEntropyLoss()\n",
        "optimizer = torch.optim.SGD(model.parameters(), lr=learning_rate)"
      ],
      "execution_count": 0,
      "outputs": []
    },
    {
      "cell_type": "code",
      "metadata": {
        "id": "jIJob9yeLnOV",
        "colab_type": "code",
        "colab": {
          "base_uri": "https://localhost:8080/",
          "height": 557
        },
        "outputId": "d11ce1ba-621f-4f4c-aa57-b5b7d17c4371"
      },
      "source": [
        "# Train the model\n",
        "total_step = len(train_loader)\n",
        "for epoch in range(num_epochs):\n",
        "    for i, (images, labels) in enumerate(train_loader):\n",
        "        # Reshape images to (batch_size, input_size)\n",
        "        images = images.reshape(-1, 28*28)\n",
        "        \n",
        "        # Forward pass\n",
        "        outputs = model(images)\n",
        "        loss = criterion(outputs, labels)\n",
        "        \n",
        "        # Backward and optimize\n",
        "        optimizer.zero_grad()\n",
        "        loss.backward()\n",
        "        optimizer.step()\n",
        "        \n",
        "        if (i+1) % 100 == 0:\n",
        "            print('Epoch [{} / {}], Step [{} / {}], Loss {:.4f}'\n",
        "                  .format(epoch+1, num_epochs, i+1, total_step, loss.item()))"
      ],
      "execution_count": 8,
      "outputs": [
        {
          "output_type": "stream",
          "text": [
            "Epoch [1 / 5], Step [100 / 600], Loss 2.0994\n",
            "Epoch [1 / 5], Step [200 / 600], Loss 1.9927\n",
            "Epoch [1 / 5], Step [300 / 600], Loss 1.9602\n",
            "Epoch [1 / 5], Step [400 / 600], Loss 1.8730\n",
            "Epoch [1 / 5], Step [500 / 600], Loss 1.8060\n",
            "Epoch [1 / 5], Step [600 / 600], Loss 1.6880\n",
            "Epoch [2 / 5], Step [100 / 600], Loss 1.7096\n",
            "Epoch [2 / 5], Step [200 / 600], Loss 1.5780\n",
            "Epoch [2 / 5], Step [300 / 600], Loss 1.5276\n",
            "Epoch [2 / 5], Step [400 / 600], Loss 1.4722\n",
            "Epoch [2 / 5], Step [500 / 600], Loss 1.5536\n",
            "Epoch [2 / 5], Step [600 / 600], Loss 1.4168\n",
            "Epoch [3 / 5], Step [100 / 600], Loss 1.4031\n",
            "Epoch [3 / 5], Step [200 / 600], Loss 1.3348\n",
            "Epoch [3 / 5], Step [300 / 600], Loss 1.2437\n",
            "Epoch [3 / 5], Step [400 / 600], Loss 1.2605\n",
            "Epoch [3 / 5], Step [500 / 600], Loss 1.2895\n",
            "Epoch [3 / 5], Step [600 / 600], Loss 1.2755\n",
            "Epoch [4 / 5], Step [100 / 600], Loss 1.1922\n",
            "Epoch [4 / 5], Step [200 / 600], Loss 1.1587\n",
            "Epoch [4 / 5], Step [300 / 600], Loss 1.1587\n",
            "Epoch [4 / 5], Step [400 / 600], Loss 1.1735\n",
            "Epoch [4 / 5], Step [500 / 600], Loss 1.1092\n",
            "Epoch [4 / 5], Step [600 / 600], Loss 1.1362\n",
            "Epoch [5 / 5], Step [100 / 600], Loss 1.0754\n",
            "Epoch [5 / 5], Step [200 / 600], Loss 1.1352\n",
            "Epoch [5 / 5], Step [300 / 600], Loss 1.0496\n",
            "Epoch [5 / 5], Step [400 / 600], Loss 0.9619\n",
            "Epoch [5 / 5], Step [500 / 600], Loss 1.0449\n",
            "Epoch [5 / 5], Step [600 / 600], Loss 0.9223\n"
          ],
          "name": "stdout"
        }
      ]
    },
    {
      "cell_type": "code",
      "metadata": {
        "id": "rD_IdnxrNLPU",
        "colab_type": "code",
        "colab": {
          "base_uri": "https://localhost:8080/",
          "height": 35
        },
        "outputId": "e8c67d3a-3252-42bc-ed26-117f89c5e356"
      },
      "source": [
        "# Test the model\n",
        "# In test phase, we don't need to compute gradients (for memory efficiency)\n",
        "with torch.no_grad():\n",
        "    correct = 0\n",
        "    total = 0\n",
        "    for images, labels in test_loader:\n",
        "        images = images.reshape(-1, 28*28)\n",
        "        outputs = model(images)\n",
        "        _, predicted = torch.max(outputs.data, 1)\n",
        "        total += labels.size(0)\n",
        "        correct += (predicted == labels).sum()\n",
        "    \n",
        "    print('Accuracy of the model on the 10000 test images: {} %'.format(100 * correct / total))"
      ],
      "execution_count": 9,
      "outputs": [
        {
          "output_type": "stream",
          "text": [
            "Accuracy of the model on the 10000 test images: 82 %\n"
          ],
          "name": "stdout"
        }
      ]
    },
    {
      "cell_type": "code",
      "metadata": {
        "id": "dc4H-88xN02y",
        "colab_type": "code",
        "colab": {}
      },
      "source": [
        "# Save the model checkpoint\n",
        "torch.save(model.state_dict(), 'model.ckpt')"
      ],
      "execution_count": 0,
      "outputs": []
    }
  ]
}