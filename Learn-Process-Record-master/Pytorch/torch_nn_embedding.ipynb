{
 "cells": [
  {
   "cell_type": "code",
   "execution_count": 1,
   "metadata": {},
   "outputs": [],
   "source": [
    "# Sparse Layers\n",
    "# Embedding\n",
    "# A simple lookup table that stores embeddings of a fixed\n",
    "# dictionary and size\n",
    "\n",
    "# This module is often used to store word embeddings and retrieve them using\n",
    "# indices. The input to the module is a list of indices, and the output \n",
    "# is the corresponding word embeddings"
   ]
  },
  {
   "cell_type": "code",
   "execution_count": 3,
   "metadata": {},
   "outputs": [],
   "source": [
    "import torch\n",
    "import torch.nn as nn"
   ]
  },
  {
   "cell_type": "code",
   "execution_count": 4,
   "metadata": {},
   "outputs": [
    {
     "data": {
      "text/plain": [
       "tensor([[[ 0.0520, -0.7840, -0.5225],\n",
       "         [-0.1233,  0.5139,  0.0808],\n",
       "         [ 0.5357,  1.0450,  0.6084],\n",
       "         [ 0.2014, -0.1783,  0.4217]],\n",
       "\n",
       "        [[ 0.5357,  1.0450,  0.6084],\n",
       "         [ 0.4795, -0.2617, -1.4121],\n",
       "         [-0.1233,  0.5139,  0.0808],\n",
       "         [ 0.2973,  0.3027,  1.1873]]], grad_fn=<EmbeddingBackward>)"
      ]
     },
     "execution_count": 4,
     "metadata": {},
     "output_type": "execute_result"
    }
   ],
   "source": [
    "# an embedding module containing 10 tensors of size 3\n",
    "embedding = nn.Embedding(10, 3)\n",
    "\n",
    "# a batch of 2 samples of 4 indices each\n",
    "input = torch.LongTensor([[1, 2, 4, 5], [4, 3, 2, 9]])\n",
    "\n",
    "embedding(input)"
   ]
  },
  {
   "cell_type": "code",
   "execution_count": 5,
   "metadata": {},
   "outputs": [
    {
     "data": {
      "text/plain": [
       "tensor([[[ 0.0000,  0.0000,  0.0000],\n",
       "         [ 0.8102,  0.3729,  0.8968],\n",
       "         [ 0.0000,  0.0000,  0.0000],\n",
       "         [ 0.7103, -0.5081, -1.8361]]], grad_fn=<EmbeddingBackward>)"
      ]
     },
     "execution_count": 5,
     "metadata": {},
     "output_type": "execute_result"
    }
   ],
   "source": [
    "# example with padding_idx\n",
    "embedding = nn.Embedding(10, 3, padding_idx=0)\n",
    "\n",
    "input = torch.LongTensor([[0, 2, 0, 5]])\n",
    "embedding(input)"
   ]
  },
  {
   "cell_type": "code",
   "execution_count": 6,
   "metadata": {},
   "outputs": [],
   "source": [
    "# Only a limited number of optimizers support sparse gradients: currently it's\n",
    "# optim.SGD (cuda and cpu), optim.SparseAdam (cuda and cpu), and optim.Adagrad(cpu)"
   ]
  }
 ],
 "metadata": {
  "kernelspec": {
   "display_name": "Python 3",
   "language": "python",
   "name": "python3"
  },
  "language_info": {
   "codemirror_mode": {
    "name": "ipython",
    "version": 3
   },
   "file_extension": ".py",
   "mimetype": "text/x-python",
   "name": "python",
   "nbconvert_exporter": "python",
   "pygments_lexer": "ipython3",
   "version": "3.7.3"
  }
 },
 "nbformat": 4,
 "nbformat_minor": 2
}
