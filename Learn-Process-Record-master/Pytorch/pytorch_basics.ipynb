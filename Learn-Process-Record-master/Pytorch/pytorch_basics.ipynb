{
  "nbformat": 4,
  "nbformat_minor": 0,
  "metadata": {
    "colab": {
      "name": "pytorch basics.ipynb",
      "version": "0.3.2",
      "provenance": [],
      "collapsed_sections": []
    },
    "kernelspec": {
      "name": "python3",
      "display_name": "Python 3"
    }
  },
  "cells": [
    {
      "cell_type": "code",
      "metadata": {
        "id": "A32FTHXGKE5O",
        "colab_type": "code",
        "colab": {}
      },
      "source": [
        "import torch\n",
        "import torchvision\n",
        "import torch.nn as nn\n",
        "import numpy as np\n",
        "import torchvision.transforms as transforms"
      ],
      "execution_count": 0,
      "outputs": []
    },
    {
      "cell_type": "code",
      "metadata": {
        "id": "AFoncwGJKUrT",
        "colab_type": "code",
        "colab": {}
      },
      "source": [
        "# create tensors\n",
        "x = torch.tensor(1., requires_grad = True)\n",
        "w = torch.tensor(2., requires_grad = True)\n",
        "b = torch.tensor(3., requires_grad = True)"
      ],
      "execution_count": 0,
      "outputs": []
    },
    {
      "cell_type": "code",
      "metadata": {
        "id": "NXTqcX99KUur",
        "colab_type": "code",
        "colab": {}
      },
      "source": [
        "# build a computational graph\n",
        "y = w*x + b"
      ],
      "execution_count": 0,
      "outputs": []
    },
    {
      "cell_type": "code",
      "metadata": {
        "id": "FnK5FAvBKUyA",
        "colab_type": "code",
        "colab": {}
      },
      "source": [
        "# compute gradients\n",
        "y.backward()"
      ],
      "execution_count": 0,
      "outputs": []
    },
    {
      "cell_type": "code",
      "metadata": {
        "id": "DY6nfnEgKU1e",
        "colab_type": "code",
        "colab": {
          "base_uri": "https://localhost:8080/",
          "height": 71
        },
        "outputId": "6b691492-69c2-46ca-d9ac-683c7b70d58e"
      },
      "source": [
        "# print out the gradient\n",
        "print(x.grad)\n",
        "print(w.grad)\n",
        "print(b.grad)"
      ],
      "execution_count": 6,
      "outputs": [
        {
          "output_type": "stream",
          "text": [
            "tensor(2.)\n",
            "tensor(1.)\n",
            "tensor(1.)\n"
          ],
          "name": "stdout"
        }
      ]
    },
    {
      "cell_type": "code",
      "metadata": {
        "id": "n0_VU1yaKU4g",
        "colab_type": "code",
        "colab": {}
      },
      "source": [
        "# create tensors of shape (10, 3) and (10, 2)\n",
        "x = torch.randn(10, 3)\n",
        "y = torch.randn(10, 2)"
      ],
      "execution_count": 0,
      "outputs": []
    },
    {
      "cell_type": "code",
      "metadata": {
        "id": "hugABG5aKU7d",
        "colab_type": "code",
        "colab": {
          "base_uri": "https://localhost:8080/",
          "height": 107
        },
        "outputId": "9055b038-3856-42c4-94a2-4a183e8f3af6"
      },
      "source": [
        "# build a fully connected layer\n",
        "linear = nn.Linear(3, 2)\n",
        "print('w: ', linear.weight)\n",
        "print('b: ', linear.bias)"
      ],
      "execution_count": 8,
      "outputs": [
        {
          "output_type": "stream",
          "text": [
            "w:  Parameter containing:\n",
            "tensor([[-0.4549, -0.2026, -0.4567],\n",
            "        [ 0.1771,  0.0871,  0.4816]], requires_grad=True)\n",
            "b:  Parameter containing:\n",
            "tensor([-0.3535,  0.4477], requires_grad=True)\n"
          ],
          "name": "stdout"
        }
      ]
    },
    {
      "cell_type": "code",
      "metadata": {
        "id": "Kp_MblufKU-g",
        "colab_type": "code",
        "colab": {}
      },
      "source": [
        "# build loss function and optimizer\n",
        "criterion = nn.MSELoss()\n",
        "optimizer = torch.optim.SGD(linear.parameters(), lr=0.01)"
      ],
      "execution_count": 0,
      "outputs": []
    },
    {
      "cell_type": "code",
      "metadata": {
        "id": "7BcVh57OKVB7",
        "colab_type": "code",
        "colab": {}
      },
      "source": [
        "# forward pass\n",
        "pred = linear(x)"
      ],
      "execution_count": 0,
      "outputs": []
    },
    {
      "cell_type": "code",
      "metadata": {
        "id": "TFxWSoUqL4Cw",
        "colab_type": "code",
        "colab": {
          "base_uri": "https://localhost:8080/",
          "height": 35
        },
        "outputId": "ded6729e-7fe2-4b4b-ee35-430cbed22765"
      },
      "source": [
        "# compute loss\n",
        "loss = criterion(pred, y)\n",
        "print('loss: ', loss.item())"
      ],
      "execution_count": 11,
      "outputs": [
        {
          "output_type": "stream",
          "text": [
            "loss:  2.172520399093628\n"
          ],
          "name": "stdout"
        }
      ]
    },
    {
      "cell_type": "code",
      "metadata": {
        "id": "pwxsKRefMytr",
        "colab_type": "code",
        "colab": {}
      },
      "source": [
        "# backward pass\n",
        "loss.backward()"
      ],
      "execution_count": 0,
      "outputs": []
    },
    {
      "cell_type": "code",
      "metadata": {
        "id": "_7QcdqDPL4Fj",
        "colab_type": "code",
        "colab": {
          "base_uri": "https://localhost:8080/",
          "height": 71
        },
        "outputId": "3c78ea91-9803-4ce3-b884-7157a60c70b3"
      },
      "source": [
        "# print out the gradients\n",
        "print('dL/dw: ', linear.weight.grad)\n",
        "print('dL/db: ', linear.bias.grad)"
      ],
      "execution_count": 13,
      "outputs": [
        {
          "output_type": "stream",
          "text": [
            "dL/dw:  tensor([[-0.5859, -0.4575, -0.1959],\n",
            "        [ 0.0080,  0.0669,  0.1434]])\n",
            "dL/db:  tensor([0.6162, 0.9035])\n"
          ],
          "name": "stdout"
        }
      ]
    },
    {
      "cell_type": "code",
      "metadata": {
        "id": "nizn83z0L4Ic",
        "colab_type": "code",
        "colab": {}
      },
      "source": [
        "# 1-step gradient descent\n",
        "optimizer.step()"
      ],
      "execution_count": 0,
      "outputs": []
    },
    {
      "cell_type": "code",
      "metadata": {
        "id": "qpxFK4TLNZQl",
        "colab_type": "code",
        "colab": {
          "base_uri": "https://localhost:8080/",
          "height": 35
        },
        "outputId": "12436275-a504-48dc-9a55-55086f4f22f2"
      },
      "source": [
        "# print out the loss after 1-step gradient descent\n",
        "pred = linear(x)\n",
        "loss = criterion(pred, y)\n",
        "print('loss after 1 step optimization: ', loss.item())"
      ],
      "execution_count": 15,
      "outputs": [
        {
          "output_type": "stream",
          "text": [
            "loss after 1 step optimization:  2.1544740200042725\n"
          ],
          "name": "stdout"
        }
      ]
    },
    {
      "cell_type": "code",
      "metadata": {
        "id": "E11edeFDL4MW",
        "colab_type": "code",
        "colab": {}
      },
      "source": [
        "# create a numpy array\n",
        "x = np.array([[1, 2], [3, 4]])\n",
        "\n",
        "# convert the numpy array to a torch tensor\n",
        "y = torch.from_numpy(x)\n",
        "\n",
        "# convert the torch tensor to a numpy array\n",
        "z = y.numpy()"
      ],
      "execution_count": 0,
      "outputs": []
    },
    {
      "cell_type": "code",
      "metadata": {
        "id": "AHIGXzwhL4Pa",
        "colab_type": "code",
        "colab": {}
      },
      "source": [
        ""
      ],
      "execution_count": 0,
      "outputs": []
    },
    {
      "cell_type": "code",
      "metadata": {
        "id": "sUKwevyRL4SW",
        "colab_type": "code",
        "colab": {}
      },
      "source": [
        ""
      ],
      "execution_count": 0,
      "outputs": []
    },
    {
      "cell_type": "code",
      "metadata": {
        "id": "4l9II_ZGL4Vv",
        "colab_type": "code",
        "colab": {}
      },
      "source": [
        ""
      ],
      "execution_count": 0,
      "outputs": []
    }
  ]
}