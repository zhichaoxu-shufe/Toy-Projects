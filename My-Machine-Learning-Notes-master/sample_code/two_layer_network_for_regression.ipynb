{
  "nbformat": 4,
  "nbformat_minor": 0,
  "metadata": {
    "colab": {
      "name": "two_layer network for regression.ipynb",
      "version": "0.3.2",
      "provenance": []
    },
    "kernelspec": {
      "name": "python3",
      "display_name": "Python 3"
    }
  },
  "cells": [
    {
      "cell_type": "code",
      "metadata": {
        "id": "FOHcIizsePT0",
        "colab_type": "code",
        "colab": {}
      },
      "source": [
        "import autograd.numpy as np\n",
        "import autograd.numpy.random as npr\n",
        "from autograd import grad\n",
        "import sklearn.metrics\n",
        "import pylab"
      ],
      "execution_count": 0,
      "outputs": []
    },
    {
      "cell_type": "code",
      "metadata": {
        "id": "AQQ-fjAkeejZ",
        "colab_type": "code",
        "colab": {}
      },
      "source": [
        "# generate the Dataset\n",
        "examples = 1000\n",
        "features = 100\n",
        "D = (npr.randn(examples, features), npr.randn(examples))"
      ],
      "execution_count": 0,
      "outputs": []
    },
    {
      "cell_type": "code",
      "metadata": {
        "id": "SlPXdvz4eeoK",
        "colab_type": "code",
        "colab": {}
      },
      "source": [
        "# specify the network\n",
        "layer1_units = 10\n",
        "layer2_units = 1\n",
        "w1 = npr.rand(features, layer1_units)\n",
        "b1 = npr.rand(layer1_units)\n",
        "w2 = npr.rand(layer1_units, layer2_units)\n",
        "b2 = 0.0\n",
        "theta = (w1, b1, w2, b2)"
      ],
      "execution_count": 0,
      "outputs": []
    },
    {
      "cell_type": "code",
      "metadata": {
        "id": "fYjxhi4SeerR",
        "colab_type": "code",
        "colab": {}
      },
      "source": [
        "# define the loss function\n",
        "def squared_loss(y, y_hat):\n",
        "  return np.dot((y - y_hat), (y-y_hat))"
      ],
      "execution_count": 0,
      "outputs": []
    },
    {
      "cell_type": "code",
      "metadata": {
        "id": "BiXxdXv_fJI6",
        "colab_type": "code",
        "colab": {}
      },
      "source": [
        "# output layer\n",
        "def binary_cross_entropy(y, y_hat):\n",
        "  return np.sum(-((y*np.log(y_hat)) + ((1-y) * np.log(1-y_hat))))"
      ],
      "execution_count": 0,
      "outputs": []
    },
    {
      "cell_type": "code",
      "metadata": {
        "id": "Y77iwkmafJLe",
        "colab_type": "code",
        "colab": {}
      },
      "source": [
        "# wrapper around the neural network\n",
        "def neural_network(x, theta):\n",
        "  w1, b1, w2, b2 = theta\n",
        "  return np.tanh(np.dot((np.tanh(np.dot(x, w1)+b1)), w2) + b2)"
      ],
      "execution_count": 0,
      "outputs": []
    },
    {
      "cell_type": "code",
      "metadata": {
        "id": "-gvALXHqfomy",
        "colab_type": "code",
        "colab": {}
      },
      "source": [
        "# wrapper around the objective function to be optimized\n",
        "def objective(theta, idx):\n",
        "  return squared_loss(D[1][idx], neural_network(D[0][idx], theta))"
      ],
      "execution_count": 0,
      "outputs": []
    },
    {
      "cell_type": "code",
      "metadata": {
        "id": "6sV0JWCOf05s",
        "colab_type": "code",
        "colab": {}
      },
      "source": [
        "# update\n",
        "def update_theta(theta, delta, alpha):\n",
        "  w1, b1, w2, b2 = theta\n",
        "  w1_delta, b1_delta, w2_delta, b2_delta = delta\n",
        "  w1_new = w1 - alpha*w1_delta\n",
        "  b1_new = b1 - alpha*b1_delta\n",
        "  w2_new = w2 - alpha*w2_delta\n",
        "  b2_new = b2 - alpha*b2_delta\n",
        "  new_theta = (w1_new, b1_new, w2_new, b2_new)\n",
        "  return new_theta"
      ],
      "execution_count": 0,
      "outputs": []
    },
    {
      "cell_type": "code",
      "metadata": {
        "id": "VPjpE9wlf0-N",
        "colab_type": "code",
        "colab": {}
      },
      "source": [
        "# compute gradient\n",
        "grad_objective = grad(objective)"
      ],
      "execution_count": 0,
      "outputs": []
    },
    {
      "cell_type": "code",
      "metadata": {
        "id": "EYX-A7hFf1BL",
        "colab_type": "code",
        "colab": {
          "base_uri": "https://localhost:8080/",
          "height": 323
        },
        "outputId": "038b228f-4147-4ae7-b0e2-509343bd1bc8"
      },
      "source": [
        "# train the neural network\n",
        "epochs = 10\n",
        "print('RMSE before training: ', sklearn.metrics.mean_squared_error(D[1], neural_network(D[0], theta)))\n",
        "rmse = []\n",
        "for i in range(0, epochs):\n",
        "  for j in range(0, examples):\n",
        "    delta = grad_objective(theta, j)\n",
        "    theta = update_theta(theta, delta, 0.01)\n",
        "\n",
        "rmse.append(sklearn.metrics.mean_squared_error(D[1], neural_network(D[0], theta)))\n",
        "print('RMSE after training: ', sklearn.metrics.mean_squared_error(D[1], neural_network(D[0], theta)))\n",
        "print(rmse)\n",
        "\n",
        "pylab.plot(rmse)\n",
        "pylab.show()"
      ],
      "execution_count": 15,
      "outputs": [
        {
          "output_type": "stream",
          "text": [
            "RMSE before training:  0.4709081100782502\n",
            "RMSE after training:  0.4230121763714401\n",
            "[0.4230121763714401]\n"
          ],
          "name": "stdout"
        },
        {
          "output_type": "display_data",
          "data": {
            "image/png": "[encoded data removed]",
            "text/plain": [
              "<Figure size 432x288 with 1 Axes>"
            ]
          },
          "metadata": {
            "tags": []
          }
        }
      ]
    }
  ]
}